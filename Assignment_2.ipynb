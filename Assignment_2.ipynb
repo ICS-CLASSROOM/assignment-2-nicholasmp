{
 "cells": [
  {
   "cell_type": "code",
   "execution_count": 1,
   "id": "1443cdff",
   "metadata": {},
   "outputs": [],
   "source": [
    "### Name: Nicholas Miyamoto-Pennywell\n",
    "import re\n"
   ]
  },
  {
   "cell_type": "markdown",
   "id": "9aa8d15e",
   "metadata": {},
   "source": [
    "# Assignment 2: Analyzing large datasets with Spark.\n",
    "\n",
    "\n",
    "For this assignment, you will need to make sure you're running from a PySpark docker environment I introduced in class. You can start the docker pySpark docker environment using the following command:\n",
    "\n",
    "```\n",
    "docker run --rm -p 4040:4040 -p 8888:8888 -v $(pwd):/home/jovyan/work jupyter/all-spark-notebook\n",
    "```\n",
    "\n",
    "Make sure you run the command from the directory containing this jupyter notebook and your data folder.\n",
    "\n",
    "\n",
    "</b>\n",
    "# WARNING: For some reason, ipynbb document didn't always sync properly when I was pushing to github. As such, please push often and make sure your incremental changes appear on GitHub.\n",
    "</b>"
   ]
  },
  {
   "cell_type": "markdown",
   "id": "66b0d3e6",
   "metadata": {},
   "source": [
    "### Part 1\n",
    "\n",
    "The first part will use Spark to analyze the following books, which I have downloaded for you to use from Project Gutenberg. The files are saved to the data folder.\n",
    "\n",
    "| File name | Book Title|\n",
    "|:---------:|:----------|\n",
    "|43.txt | The Strange Case of Dr. Jekyll and Mr. Hyde by Robert Louis Stevenson|\n",
    "|84.txt | Frankenstein; Or, The Modern Prometheus by Mary Wollstonecraft Shelley |\n",
    "|398.txt  | The First Book of Adam and Eve by Rutherford Hayes Platt|\n",
    "|3296.txt | The Confessions of St. Augustine by Bishop of Hippo Saint Augustine|\n",
    "\n",
    "The objective is to explore whether we can detect similarity between books within the same topic using word-based similarity. \n",
    "\n",
    "The task of identifying similar texts in Natural Language Processing is crucial. A naive method for determining whether two documents are similar is to treat them as collections of words (bag of words) and use the number of words they share as a proxy for their similarity. It makes sense that two books with religion as the topic (e.g.  `398.txt` and `3296.txt`) would have more words in common than a book that discusses religion and a book that discusses science fiction (e.g. books `84.txt` and `398.txt`). \n",
    "\n",
    "As mentioned above, we will be using Spark to analyze the data. Although Spark is not needed for such a small example, the platform would be ideal for analyzing very large collections of documents, like those often analyzed by large corporations\n",
    "\n",
    "This part of the assignment will rely exclusively on RDDs."
   ]
  },
  {
   "cell_type": "markdown",
   "id": "87a15530",
   "metadata": {},
   "source": [
    "### Q1. \n",
    "Start by importing Spark and making sure your environment is set up properly for the assignment.\n",
    "\n",
    "Import the spark context necessary to load a document as an RDD; ignore any error messages"
   ]
  },
  {
   "cell_type": "code",
   "execution_count": 2,
   "id": "e80df4d4",
   "metadata": {},
   "outputs": [
    {
     "name": "stderr",
     "output_type": "stream",
     "text": [
      "WARNING: An illegal reflective access operation has occurred\n",
      "WARNING: Illegal reflective access by org.apache.spark.unsafe.Platform (file:/usr/local/spark-3.2.0-bin-hadoop3.2/jars/spark-unsafe_2.12-3.2.0.jar) to constructor java.nio.DirectByteBuffer(long,int)\n",
      "WARNING: Please consider reporting this to the maintainers of org.apache.spark.unsafe.Platform\n",
      "WARNING: Use --illegal-access=warn to enable warnings of further illegal reflective access operations\n",
      "WARNING: All illegal access operations will be denied in a future release\n",
      "Using Spark's default log4j profile: org/apache/spark/log4j-defaults.properties\n",
      "Setting default log level to \"WARN\".\n",
      "To adjust logging level use sc.setLogLevel(newLevel). For SparkR, use setLogLevel(newLevel).\n",
      "21/11/07 01:49:20 WARN NativeCodeLoader: Unable to load native-hadoop library for your platform... using builtin-java classes where applicable\n"
     ]
    }
   ],
   "source": [
    "### Write your code here\n",
    "from pyspark import SparkContext\n",
    "\n",
    "sc = SparkContext()"
   ]
  },
  {
   "cell_type": "markdown",
   "id": "336d5c9d",
   "metadata": {},
   "source": [
    "### Q2 \n",
    "\n",
    "Read in the file `43.txt` as a spark RDD and save it to a variable called `book_43`\n",
    " * make sure `book_43` is of type MapPartitionsRDD, i.e.,\n",
    "   * str(type(book_43)) == \"<class 'pyspark.rdd.RDD'>\" should return True "
   ]
  },
  {
   "cell_type": "code",
   "execution_count": 3,
   "id": "3d4164f5",
   "metadata": {},
   "outputs": [
    {
     "data": {
      "text/plain": [
       "True"
      ]
     },
     "execution_count": 3,
     "metadata": {},
     "output_type": "execute_result"
    }
   ],
   "source": [
    "### Write your code here\n",
    "book_43 = sc.textFile(\"data/43.txt\")\n",
    "\n",
    "str(type(book_43)) == \"<class 'pyspark.rdd.RDD'>\""
   ]
  },
  {
   "cell_type": "markdown",
   "id": "0b8c051e",
   "metadata": {},
   "source": [
    "### Q3\n",
    "\n",
    "How many lines does `book_43` contain?\n",
    "* You can only use operations or actions on RDDs to answer the question. \n",
    "  * Code that uses methods such as `some_rdd.X().Y().Z()...` is allowed\n",
    "  * Code that uses functions such as `some_func(...)` is not allowed"
   ]
  },
  {
   "cell_type": "code",
   "execution_count": 4,
   "id": "b3c5a06e",
   "metadata": {},
   "outputs": [
    {
     "name": "stderr",
     "output_type": "stream",
     "text": [
      "\r",
      "[Stage 0:>                                                          (0 + 2) / 2]\r"
     ]
    },
    {
     "name": "stdout",
     "output_type": "stream",
     "text": [
      "Number of lines in Book 43: 2935\n"
     ]
    },
    {
     "name": "stderr",
     "output_type": "stream",
     "text": [
      "\r",
      "                                                                                \r"
     ]
    }
   ],
   "source": [
    "### Write your code here\n",
    "book_43_lines = book_43.count()\n",
    "print(f\"Number of lines in Book 43: {book_43_lines}\")"
   ]
  },
  {
   "cell_type": "markdown",
   "id": "bca2bc6d",
   "metadata": {},
   "source": [
    "### Q4 \n",
    "\n",
    "Prior to analyzing the words contained in this book, we need to first remove the occurrences of non-alphabetical characters and numbers from the text. You can use the following function, which takes a line as input, removes digits and non-word characters, and splits it into a collection of words. \n",
    "\n",
    "```python\n",
    "def clean_split_line(line):\n",
    "    a = re.sub('\\d+', '', line)\n",
    "    b = re.sub('[\\W]+', ' ', a)\n",
    "    return b.upper().split()\n",
    "```\n",
    "\n",
    "Use the fucntion above on the variable (test_line) to see what it returns.\n",
    "```python\n",
    "test_line = \"This is an example of that contains 234 and a dash-containing number\"\n",
    "```"
   ]
  },
  {
   "cell_type": "code",
   "execution_count": 5,
   "id": "55ce2754",
   "metadata": {},
   "outputs": [
    {
     "name": "stdout",
     "output_type": "stream",
     "text": [
      "Test Line Results: ['THIS', 'IS', 'AN', 'EXAMPLE', 'OF', 'THAT', 'CONTAINS', 'AND', 'A', 'DASH', 'CONTAINING', 'NUMBER']\n"
     ]
    }
   ],
   "source": [
    "test_line = \"This is an example of that contains 234 and a dash-containing number\"\n",
    "def clean_split_line(line):\n",
    "    a = re.sub('\\d+', '', line)\n",
    "    b = re.sub('[\\W]+', ' ', a)\n",
    "    return b.upper().split()\n",
    "\n",
    "### Write your code here\n",
    "test_results = clean_split_line(test_line)\n",
    "print(f\"Test Line Results: {test_results}\")"
   ]
  },
  {
   "cell_type": "markdown",
   "id": "b5e951e5",
   "metadata": {},
   "source": [
    "### Q5\n",
    "\n",
    "How many words does `book_43` contain? To answer this question, you may find it useful to apply the function in a spark-fashion. \n",
    "* You can only use operations or actions on RDDs to answer the question. \n",
    "  * Code that uses methods such as `some_rdd.X().Y().Z()...` is allowed\n",
    "  * Code that uses functions such as `some_func(...)` is not allowed\n"
   ]
  },
  {
   "cell_type": "code",
   "execution_count": 6,
   "id": "99c1b93f",
   "metadata": {},
   "outputs": [
    {
     "name": "stdout",
     "output_type": "stream",
     "text": [
      "Word Count of Book 43: 29116\n"
     ]
    }
   ],
   "source": [
    "### Write your code here\n",
    "book_43_words = book_43.flatMap(clean_split_line)\n",
    "book_43_word_count = book_43_words.count()\n",
    "print(f\"Word Count of Book 43: {book_43_word_count}\")"
   ]
  },
  {
   "cell_type": "markdown",
   "id": "30d62952",
   "metadata": {},
   "source": [
    "### Q6\n",
    "\n",
    "How many of the words in book_43 are unique? Given that words can appear in lower, upper or mixed case (ex. The, THE, the), make sure you convert the words into lower case before counting them.\n"
   ]
  },
  {
   "cell_type": "code",
   "execution_count": 7,
   "id": "07785c77",
   "metadata": {},
   "outputs": [
    {
     "name": "stdout",
     "output_type": "stream",
     "text": [
      "Unique Word Count of Book 43: 4296\n"
     ]
    },
    {
     "data": {
      "text/plain": [
       "['project', 'gutenberg', 'ebook', 'of', 'strange']"
      ]
     },
     "execution_count": 7,
     "metadata": {},
     "output_type": "execute_result"
    }
   ],
   "source": [
    "### Write your code here\n",
    "# Changed given clean_split_line function to satisfy the lower case counting. \n",
    "def clean_split_line2(line):\n",
    "    a = re.sub('\\d+', '', line)\n",
    "    b = re.sub('[\\W]+', ' ', a)\n",
    "    return b.lower().split()\n",
    "book_43_uniqe = book_43.flatMap(clean_split_line2).distinct()\n",
    "book_43_uniqe_count = book_43_uniqe.count()\n",
    "print(f\"Unique Word Count of Book 43: {book_43_uniqe_count}\")\n",
    "book_43_uniqe.take(5)"
   ]
  },
  {
   "cell_type": "markdown",
   "id": "91b13b79",
   "metadata": {},
   "source": [
    "### Q7\n",
    "\n",
    "* Generate an `RDD` that contains the frequency of each word in `book_43`. Call the variable `book_43_counts`. Each item in the `RDD` should be a tuple with the word as the first element of the tuple and the count as the second item of the tuple. The collection should look like the following:\n",
    "\n",
    "[('project', 88), (\"the\", 1807), ... ]\n",
    "\n",
    "* Such a collection may contain a large number of words and it would be imprudent to transfer all the words onto the same machine to display it. Instead, to explore the content of such a collection, display only the first element in your list. \n",
    "\n",
    "* Given the random nature of this operation, the first element element displayed may be different. The first entry for me was:\n",
    "```\n",
    "[('project', 88)]\n",
    "```\n",
    "\n",
    "* You can only use operations or actions to answer the question. \n",
    "* Code that uses methods such as `some_rdd.X().Y().Z()...` is allowed\n",
    "* Code that uses functions such as `some_func(...)` is not allowed\n"
   ]
  },
  {
   "cell_type": "code",
   "execution_count": 8,
   "id": "42729b95",
   "metadata": {},
   "outputs": [
    {
     "data": {
      "text/plain": [
       "[('project', 88)]"
      ]
     },
     "execution_count": 8,
     "metadata": {},
     "output_type": "execute_result"
    }
   ],
   "source": [
    "### Write your code here\n",
    "# Line of Code taken from Week 5 solution\n",
    "book_43_counts = book_43.flatMap(clean_split_line2).map(lambda x: (x,1)).reduceByKey(lambda x,y: x+y)\n",
    "book_43_counts.take(1)"
   ]
  },
  {
   "cell_type": "markdown",
   "id": "1ee4534c",
   "metadata": {},
   "source": [
    "### Q8\n",
    "\n",
    "Sort `book_43_counts` and print the 20 most frequent words in book_43. \n",
    "  * Hint: function `sortByKey` sorts a collection of tuples on the first element element of the list. You can easily change the order of the items in each element and use `sortByKey` to sort on the second item of each element in `book_43_counts`\n",
    "  * You can only use operations or actions to answer the question. \n",
    "  * Code that uses methods such as `some_rdd.X().Y().Z()...` is allowed\n",
    "  * Code that uses functions such as `some_func(...)` is not allowed"
   ]
  },
  {
   "cell_type": "code",
   "execution_count": 9,
   "id": "d51b8ea9",
   "metadata": {},
   "outputs": [
    {
     "data": {
      "text/plain": [
       "[('the', 1807),\n",
       " ('of', 1068),\n",
       " ('and', 1043),\n",
       " ('to', 726),\n",
       " ('a', 686),\n",
       " ('i', 646),\n",
       " ('in', 485),\n",
       " ('was', 471),\n",
       " ('that', 392),\n",
       " ('he', 384),\n",
       " ('it', 378),\n",
       " ('you', 312),\n",
       " ('my', 308),\n",
       " ('with', 301),\n",
       " ('his', 285),\n",
       " ('had', 244),\n",
       " ('as', 203),\n",
       " ('for', 202),\n",
       " ('this', 195),\n",
       " ('but', 193)]"
      ]
     },
     "execution_count": 9,
     "metadata": {},
     "output_type": "execute_result"
    }
   ],
   "source": [
    "### Write your code here\n",
    "book_43_sorted = book_43_counts.sortBy(lambda x: x[1], False)\n",
    "book_43_sorted.take(20)"
   ]
  },
  {
   "cell_type": "markdown",
   "id": "13420b09",
   "metadata": {},
   "source": [
    "### Q9\n",
    "\n",
    "You must have noted that the most frequent words in `book_43_counts` include stop words such as `of`, `the`, `and`, etc.\n",
    "\n",
    "It would be inefficient to compare documents based on whether or not they contain stop words; those are common to all documents. As such, it's common to remove such stop words. The librarary `sklearn.feature_extraction` provides access to a collection of English stop words, which can be loaded using the following snippet:\n",
    "\n",
    "```\n",
    "from sklearn.feature_extraction import stop_words\n",
    "stop_words.ENGLISH_STOP_WORDS\n",
    "```\n",
    "\n",
    "* Explore ENGLISH_STOP_WORDS (it's a frozen set data structure, i.e., a set that you cannot modify) by printing any 10 words from it. \n",
    " * Hint: convert the frozen set to something you can subscript\n"
   ]
  },
  {
   "cell_type": "code",
   "execution_count": 10,
   "id": "0e0ad996",
   "metadata": {},
   "outputs": [
    {
     "name": "stdout",
     "output_type": "stream",
     "text": [
      "['re', 'out', 'thence', 'yourself', 'neither', 'why', 'once', 'whence', 'wherein', 'ourselves']\n"
     ]
    }
   ],
   "source": [
    "### Write your code here\n",
    "from sklearn.feature_extraction import _stop_words\n",
    "stop_words_list = list(_stop_words.ENGLISH_STOP_WORDS)\n",
    "print(stop_words_list[:10])"
   ]
  },
  {
   "cell_type": "markdown",
   "id": "625eb521",
   "metadata": {},
   "source": [
    "### Q10\n",
    "\n",
    "Filter out the words in `book_43_counts` by removing those that appear in the ENGLISH_STOP_WORDS.\n",
    "Save the results to a new variable called `book_43_counts_filtered`\n",
    "  * You can only use operarations or actions on RDDs to answer the question. \n",
    "  * Code that uses methods such as `some_rdd.X().Y().Z()...` is allowed\n",
    "  * Code that uses function such as `some_func(...)` is not allowed\n"
   ]
  },
  {
   "cell_type": "code",
   "execution_count": 11,
   "id": "5602b4ff",
   "metadata": {},
   "outputs": [
    {
     "data": {
      "text/plain": [
       "[('project', 88),\n",
       " ('gutenberg', 98),\n",
       " ('ebook', 13),\n",
       " ('strange', 24),\n",
       " ('mr', 128)]"
      ]
     },
     "execution_count": 11,
     "metadata": {},
     "output_type": "execute_result"
    }
   ],
   "source": [
    "### Write your code here\n",
    "book_43_counts_filtered = book_43_counts.filter(lambda x: x[0] not in stop_words_list)\n",
    "book_43_counts_filtered.take(5)"
   ]
  },
  {
   "cell_type": "markdown",
   "id": "3d0b3a80",
   "metadata": {},
   "source": [
    "### Q11\n",
    "\n",
    "* How many words are left in `book_43_counts_filtered` after removing the stop words"
   ]
  },
  {
   "cell_type": "code",
   "execution_count": 12,
   "id": "a5bdf083",
   "metadata": {},
   "outputs": [
    {
     "name": "stdout",
     "output_type": "stream",
     "text": [
      "Book 43 Filtered Count of Words: 4034\n"
     ]
    }
   ],
   "source": [
    "### Write your code here\n",
    "book_43_filtered_counts = book_43_counts_filtered.count()\n",
    "print(f\"Book 43 Filtered Count of Words: {book_43_filtered_counts}\")"
   ]
  },
  {
   "cell_type": "markdown",
   "id": "23ffd755",
   "metadata": {},
   "source": [
    "### Q12 \n",
    "\n",
    "* Create a function called *process_RDD* that combines the relevant steps you proposed above to make it convenient to apply them to the remaining four books. Your function should accept an input text file path and:\n",
    " * Reads in the file as a textRDD\n",
    " * Cleans and splits the line using `clean_split_line`\n",
    " * Filters out the stop words\n",
    " * Returns a word count RDD where each item is a tuple of words and its count.\n",
    " \n"
   ]
  },
  {
   "cell_type": "code",
   "execution_count": 13,
   "id": "eff5d5e8",
   "metadata": {},
   "outputs": [
    {
     "data": {
      "text/plain": [
       "[('project', 88),\n",
       " ('gutenberg', 98),\n",
       " ('ebook', 13),\n",
       " ('mary', 3),\n",
       " ('shelley', 3)]"
      ]
     },
     "execution_count": 13,
     "metadata": {},
     "output_type": "execute_result"
    }
   ],
   "source": [
    "### Write your code here\n",
    "def process_RDD(text_file_path):\n",
    "    ### Takes the text file path and reads it as an RDD. Question 2\n",
    "    new_book = sc.textFile(text_file_path)\n",
    "    ### Takes the RDD and splits it into a tuple of words and their count. Question 7\n",
    "    book_line_split = new_book.flatMap(clean_split_line2).map(lambda x: (x, 1)).reduceByKey(lambda x,y: x+y)\n",
    "    ### Takes the Tuples of words and counts and filters out the stop words. Question 10\n",
    "    book_filtered_word_count = book_line_split.filter(lambda x: x[0] not in stop_words_list)\n",
    "    return book_filtered_word_count\n",
    "### Example used for function.\n",
    "example = process_RDD(\"data/84.txt\")\n",
    "example.take(5)"
   ]
  },
  {
   "cell_type": "markdown",
   "id": "ba59c9c5",
   "metadata": {},
   "source": [
    "### Q13 \n",
    "\n",
    "Apply the function `process_RDD` to `book_84`, `book_398` and `book_3296` and save the results to variables `book_84_counts_filtered`, `book_398_counts_filtered` and `book_3296_counts_filtered` respectively. How many distinct words does each book contain after filtering the stop words.\n"
   ]
  },
  {
   "cell_type": "code",
   "execution_count": 14,
   "id": "08a24f66",
   "metadata": {
    "scrolled": true
   },
   "outputs": [
    {
     "name": "stdout",
     "output_type": "stream",
     "text": [
      "Distinct words for book 84 =7016\n",
      "Distinct words for book 398 =2421\n",
      "Distinct words for book 3296 =7293\n",
      "\n"
     ]
    }
   ],
   "source": [
    "### Write your code here\n",
    "book_84_counts_filtered = process_RDD(\"data/84.txt\")\n",
    "book_398_counts_filtered = process_RDD(\"data/398.txt\")\n",
    "book_3296_counts_filtered = process_RDD(\"data/3296.txt\")\n",
    "\n",
    "book_84_distinct = book_84_counts_filtered.count()\n",
    "book_398_distinct = book_398_counts_filtered.count()\n",
    "book_3296_distinct = book_3296_counts_filtered.count()\n",
    "print(f\"Distinct words for book 84 ={book_84_distinct}\\nDistinct words for book 398 ={book_398_distinct}\\nDistinct words for book 3296 ={book_3296_distinct}\\n\")"
   ]
  },
  {
   "cell_type": "markdown",
   "id": "7fb9680f",
   "metadata": {},
   "source": [
    "### Q14 \n",
    "\n",
    "We discussed how to evaluate similarity between two texts using the number of words they share. We hypothesized that books that are similar should have more words in common than books that are dissimilar. If that holds, `book_398` and `book_3296`, which both pertain to religion, will have more words in common than, say, `book_84` and `book_398`. Test this hypothesis by writing code that compares and prints the number of words shared between `book_398` and `book_3296` and then between `book_84` and `book_398`.\n"
   ]
  },
  {
   "cell_type": "code",
   "execution_count": 15,
   "id": "ac6b73e0",
   "metadata": {},
   "outputs": [
    {
     "name": "stdout",
     "output_type": "stream",
     "text": [
      "Number of similar words between book 398 and book 3296: 1790\n",
      "Number of simialr words between book 84 and book 398: 1691\n",
      "Number of fimilar words between book 84 and book 3296: 3608\n"
     ]
    }
   ],
   "source": [
    "### Write your code here\n",
    "def book_comparison(book_one, book_two):\n",
    "    word_comparison_count = book_one.join(book_two).count()\n",
    "    return word_comparison_count\n",
    "\n",
    "comparison_398_3296 = book_comparison(book_398_counts_filtered, book_3296_counts_filtered)\n",
    "comparison_84_398 = book_comparison(book_84_counts_filtered, book_398_counts_filtered)\n",
    "print(f\"Number of similar words between book 398 and book 3296: {comparison_398_3296}\\nNumber of simialr words between book 84 and book 398: {comparison_84_398}\")\n",
    "\n",
    "comparison_84_3296 = book_comparison(book_84_counts_filtered, book_3296_counts_filtered)\n",
    "print(f\"Number of fimilar words between book 84 and book 3296: {comparison_84_3296}\")"
   ]
  },
  {
   "cell_type": "markdown",
   "id": "cef9f326",
   "metadata": {},
   "source": [
    "### Q15\n",
    "\n",
    "* Based on the above, do you think counting the number of shared words is a good idea as a distance metric for evaluating topic similarity? Justify your answer?\n",
    "* Hint: What do *book_84* and *book_3296* have in common? "
   ]
  },
  {
   "cell_type": "markdown",
   "id": "6587ae14",
   "metadata": {},
   "source": [
    "#### Write your answer here\n",
    "\n",
    "No not necessarily, because the numeric value of the comparisons may not actually prove the evaluation of topic similarity. Rather the ratio of comparisons over the number of words from both books may be a better evaluation metric instead since it accounts for the length of both books possibly being a factor. With that being said it still isn't very accurate either, as discussed in class today(Nov 1.) collecting and seperating the generalized words from the list of shared words to aquire the unique shared words may be a better evaluation process to determine topic similarity."
   ]
  },
  {
   "cell_type": "markdown",
   "id": "a6f8f857",
   "metadata": {},
   "source": [
    "## Part II \n",
    "\n",
    "Another approach to estimating similarity consists of computing the Euclidean distance across a set of words. For example, suppose we have 3 documents A, B and C with the following counts for the words `evolution`, `DNA`, `biology` and `finance`. \n",
    "\n",
    "```python \n",
    "A = [4, 9, 6, 8]\n",
    "B = [3, 7, 7, 10]\n",
    "C = [15, 10, 1, 1]\n",
    "```\n",
    "Although all documents contain exactly the four words, the number of times these words appear in each book may be indicative of thier topic. For example, documents `A` and `B` are more likely to be business related since they contain the word `finance` more frequently (8 and 10 times respectively). Document `C` may be a technical document since it focuses on more technical words (`evolution` and `DNA`) and less on the words `finance`.\n",
    "\n",
    "The Euclidean distance, which can be computed using the `scikit` snippet below, is more indicative of topic-relatedness between the two documents.\n",
    "\n",
    "```python\n",
    "from scipy.spatial.distance import euclidean \n",
    "print(f\"The Euclidean distance between A and B is: {euclidean(A, B)}\")\n",
    "\n",
    "print(f\"The Euclidean distance between A and C is: {euclidean(A, C)}\")\n",
    "\n",
    "print(f\"The Euclidean distance between B and C is: {euclidean(B, C)}\")\n",
    "```\n"
   ]
  },
  {
   "cell_type": "markdown",
   "id": "9abdc35e",
   "metadata": {},
   "source": [
    "### Q16\n",
    "\n",
    "To calculate the Euclidean distance, we must first identify the set of words by which we will compare the documents. Here, we will explore the words that are common to all 4 documents. We will store the data in a matrix called `counts_matrix`.\n",
    "\n",
    "Start by finding the words that are common to all four documents after stop-word filtering and store the counts for each word in a column of `counts_matrix`. \n",
    "\n",
    "To take the previous example, you can generate an emtpy matrix with 3 lines (documents `A`, `B` and `C`) and 4 columns (words `evolution`, `DNA`, `biology` and `finance`) using the following code.\n",
    "\n",
    "```python\n",
    "import numpy as np\n",
    "counts_matrix = np.zeros([3,4])\n",
    "```\n",
    "\n",
    "After generting the counts, you can fill the counts for a document, say `A`, using the following code:\n",
    "\n",
    "```python\n",
    "counts_matrix[0, :] = [4, 9, 6, 8] \n",
    "```\n",
    "* Other than for building `counts_matrix` you should exclusively use operations or actions on the `RDD` to answer this question. \n",
    "  * Code that uses methods such as `some_rdd.X().Y().Z()...` is allowed\n",
    "  * Code that uses functions such as `some_func(...)` is not allowed\n"
   ]
  },
  {
   "cell_type": "code",
   "execution_count": 16,
   "id": "c3cae946",
   "metadata": {},
   "outputs": [
    {
     "name": "stderr",
     "output_type": "stream",
     "text": [
      "                                                                                \r"
     ]
    },
    {
     "data": {
      "text/plain": [
       "array([[88., 98., 13., ...,  1.,  1.,  1.],\n",
       "       [88., 98., 13., ...,  2.,  2.,  1.],\n",
       "       [87., 93.,  9., ...,  1.,  1.,  1.],\n",
       "       [88., 97., 10., ...,  1.,  1.,  1.]])"
      ]
     },
     "execution_count": 16,
     "metadata": {},
     "output_type": "execute_result"
    }
   ],
   "source": [
    "### Write your code here\n",
    "import numpy as np\n",
    "\n",
    "book_43_counts_filtered = process_RDD(\"data/43.txt\")\n",
    "book_84_counts_filtered = process_RDD(\"data/84.txt\")\n",
    "book_398_counts_filtered = process_RDD(\"data/398.txt\")\n",
    "book_3296_counts_filtered = process_RDD(\"data/3296.txt\")\n",
    "\n",
    "four_book_word_similarity = book_43_counts_filtered.join(book_84_counts_filtered).join(book_398_counts_filtered).join(book_3296_counts_filtered)\n",
    "matrix_lines = four_book_word_similarity.count()\n",
    "counts_matrix = np.zeros([4,matrix_lines])\n",
    "counts_matrix[0, :] = four_book_word_similarity.map(lambda x: x[1][0][0][0]).collect()\n",
    "counts_matrix[1, :] = four_book_word_similarity.map(lambda x: x[1][0][0][1]).collect()\n",
    "counts_matrix[2, :] = four_book_word_similarity.map(lambda x: x[1][0][1]).collect()\n",
    "counts_matrix[3, :] = four_book_word_similarity.map(lambda x: x[1][1]).collect()\n",
    "\n",
    "counts_matrix"
   ]
  },
  {
   "cell_type": "markdown",
   "id": "124bcdd8",
   "metadata": {},
   "source": [
    "### Q17\n",
    "\n",
    "Compute the Euclidean distance between `book_398` and `book_3296`, which both talk about religion and `book_84` and `book_398`. What do you conclude about using the Euclidean distance for evaluating topic relatedness across documents?\n"
   ]
  },
  {
   "cell_type": "code",
   "execution_count": 17,
   "id": "7b6a81dd",
   "metadata": {},
   "outputs": [
    {
     "name": "stdout",
     "output_type": "stream",
     "text": [
      "Euclidean Distance between book 398 and book 3296: 1156.66\n",
      "Euclidean Distance between book 84 and book 398: 751.67\n"
     ]
    }
   ],
   "source": [
    "### Write your code here\n",
    "from scipy.spatial.distance import euclidean\n",
    "print(f\"Euclidean Distance between book 398 and book 3296: {format(euclidean(counts_matrix[2], counts_matrix[3]), '.2f')}\")\n",
    "print(f\"Euclidean Distance between book 84 and book 398: {format(euclidean(counts_matrix[1], counts_matrix[2]), '.2f')}\")"
   ]
  },
  {
   "cell_type": "markdown",
   "id": "89981b46",
   "metadata": {},
   "source": [
    "#### Write your justification here\n",
    "\n",
    "The euclidean distance wasn't a useful metric to measure topic relatedness across documents since it proved that the two books related to religion still aren't as similar as one with another topic. This can be identified by the larger distance between the two religious books over comparison with the third book."
   ]
  },
  {
   "cell_type": "markdown",
   "id": "3f4e54e6",
   "metadata": {},
   "source": [
    "### Q18\n",
    "\n",
    "Bonus question (5 points): Can you think of a few things we could do to improve similarity between documents that pertain to the same topic. Justify your answer without giving code"
   ]
  },
  {
   "cell_type": "markdown",
   "id": "5c8c6de1",
   "metadata": {},
   "source": [
    "#### Write your answer here\n",
    "\n",
    "As discussed in question 15 and 17, simple comaprisons based on word quantities have been less than successful and a focus on unique words may be an initial solution to the issue of topic similarity. I would also argue that using a ratio rather than a count may also assist. For example, when comparing three or more books to determine if two may share a topic, all the shared words between the books can be grouped to form a general list of distinct words. This list can then be used to determine the unique words any two books share in order to form a ratio to base a comparison on to ensure comparisons between books with more words aren't unequally compared."
   ]
  },
  {
   "cell_type": "markdown",
   "id": "aedf1d74",
   "metadata": {},
   "source": [
    "## Part III\n",
    "\n",
    "In this part we will build some basic analytics for a dataset consisting of flight arrival and departure details for all commercial flights within the USA in one month. While this dataset can be managed using Pandas (<1M records), scaling to a yearly or longer timeframe will greatly benefit from using a distributed computing framework such as `Spark`.\n",
    "\n",
    "Here, you should use exclusively `SparkDatFrames. \n",
    "\n",
    "We want to analyze this dataset to better schedule trips.  For example:\n",
    " * Avoid airlines carriers that are most often associated with delays.\n",
    " * Avoid departure days where delays are most frequent.\n",
    " * Avoid airports which are associated with delays or long taxxying time.\n",
    "* etc.\n",
    " \n",
    "\n",
    "The information about the fields contained in the data file can be found [here](https://dataverse.harvard.edu/dataset.xhtml;jsessionid=0414e25969eccd0e88ae4d64fa0b?persistentId=doi%3A10.7910%2FDVN%2FHG7NV7&version=&q=&fileTypeGroupFacet=&fileTag=%221.+Documentation%22&fileSortField=date&fileSortOrder=desc)\n"
   ]
  },
  {
   "cell_type": "markdown",
   "id": "149805af",
   "metadata": {},
   "source": [
    "### Q19\n",
    "\n",
    "Load the file `flight_info.csv` into a spark `DataFrame` called `fight_info`.\n",
    "\n",
    "  * Note that you will need to create a sparkSession prior to loading the data\n",
    "  \n",
    "* How many entries does the file contain?\n",
    "\n"
   ]
  },
  {
   "cell_type": "code",
   "execution_count": 18,
   "id": "3ad5e6ad",
   "metadata": {},
   "outputs": [
    {
     "name": "stdout",
     "output_type": "stream",
     "text": [
      "+---+---------+-------------+---------+------+----+----------+-------+-------+---------+--------+------+----------+-------+---------+----------------+--------+------------+------------+--------+-------------+-----------------+\n",
      "|_c0|DayOfWeek|UniqueCarrier|FlightNum|Origin|Dest|CRSDepTime|DepTime|TaxiOut|WheelsOff|WheelsOn|TaxiIn|CRSArrTime|ArrTime|Cancelled|CancellationCode|Distance|CarrierDelay|WeatherDelay|NASDelay|SecurityDelay|LateAircraftDelay|\n",
      "+---+---------+-------------+---------+------+----+----------+-------+-------+---------+--------+------+----------+-------+---------+----------------+--------+------------+------------+--------+-------------+-----------------+\n",
      "|  0|        2|           AA|      494|   CLT| PHX|      1619| 1616.0|   17.0|   1633.0|  1837.0|   5.0|      1856| 1842.0|      0.0|            null|  1773.0|        null|        null|    null|         null|             null|\n",
      "|  1|        3|           AA|      494|   CLT| PHX|      1619| 1614.0|   13.0|   1627.0|  1815.0|   6.0|      1856| 1821.0|      0.0|            null|  1773.0|        null|        null|    null|         null|             null|\n",
      "|  2|        4|           AA|      494|   CLT| PHX|      1619| 1611.0|   17.0|   1628.0|  1824.0|   2.0|      1856| 1826.0|      0.0|            null|  1773.0|        null|        null|    null|         null|             null|\n",
      "|  3|        5|           AA|      494|   CLT| PHX|      1619| 1656.0|   18.0|   1714.0|  1926.0|   3.0|      1856| 1929.0|      0.0|            null|  1773.0|        33.0|         0.0|     0.0|          0.0|              0.0|\n",
      "|  4|        6|           AA|      494|   CLT| PHX|      1619| 1632.0|   17.0|   1649.0|  1854.0|   4.0|      1856| 1858.0|      0.0|            null|  1773.0|        null|        null|    null|         null|             null|\n",
      "|  5|        7|           AA|      494|   CLT| PHX|      1619| 1636.0|   27.0|   1703.0|  1917.0|   4.0|      1856| 1921.0|      0.0|            null|  1773.0|         0.0|         0.0|     8.0|          0.0|             17.0|\n",
      "|  6|        1|           AA|      494|   CLT| PHX|      1619| 1616.0|   20.0|   1636.0|  1900.0|   7.0|      1856| 1907.0|      0.0|            null|  1773.0|        null|        null|    null|         null|             null|\n",
      "|  7|        2|           AA|      494|   CLT| PHX|      1619| 1619.0|   18.0|   1637.0|  1858.0|   6.0|      1856| 1904.0|      0.0|            null|  1773.0|        null|        null|    null|         null|             null|\n",
      "|  8|        3|           AA|      494|   CLT| PHX|      1619| 1616.0|   23.0|   1639.0|  1901.0|   5.0|      1856| 1906.0|      0.0|            null|  1773.0|        null|        null|    null|         null|             null|\n",
      "|  9|        4|           AA|      494|   CLT| PHX|      1619| 1618.0|   11.0|   1629.0|  1857.0|   5.0|      1856| 1902.0|      0.0|            null|  1773.0|        null|        null|    null|         null|             null|\n",
      "| 10|        5|           AA|      494|   CLT| PHX|      1619| 1613.0|   15.0|   1628.0|  1839.0|   3.0|      1856| 1842.0|      0.0|            null|  1773.0|        null|        null|    null|         null|             null|\n",
      "| 11|        6|           AA|      494|   CLT| PHX|      1619| 1614.0|   13.0|   1627.0|  1819.0|   4.0|      1856| 1823.0|      0.0|            null|  1773.0|        null|        null|    null|         null|             null|\n",
      "| 12|        7|           AA|      494|   CLT| PHX|      1619| 1611.0|   14.0|   1625.0|  1824.0|   4.0|      1856| 1828.0|      0.0|            null|  1773.0|        null|        null|    null|         null|             null|\n",
      "| 13|        1|           AA|      494|   CLT| PHX|      1619| 1614.0|   15.0|   1629.0|  1832.0|   4.0|      1856| 1836.0|      0.0|            null|  1773.0|        null|        null|    null|         null|             null|\n",
      "| 14|        2|           AA|      494|   CLT| PHX|      1619| 1615.0|   18.0|   1633.0|  1829.0|   7.0|      1856| 1836.0|      0.0|            null|  1773.0|        null|        null|    null|         null|             null|\n",
      "| 15|        3|           AA|      494|   FLL| CLT|      1305| 1305.0|   25.0|   1330.0|  1505.0|   9.0|      1508| 1514.0|      0.0|            null|   632.0|        null|        null|    null|         null|             null|\n",
      "| 16|        4|           AA|      494|   FLL| CLT|      1305| 1256.0|   24.0|   1320.0|  1456.0|   9.0|      1508| 1505.0|      0.0|            null|   632.0|        null|        null|    null|         null|             null|\n",
      "| 17|        5|           AA|      494|   FLL| CLT|      1305| 1312.0|   16.0|   1328.0|  1504.0|   7.0|      1508| 1511.0|      0.0|            null|   632.0|        null|        null|    null|         null|             null|\n",
      "| 18|        6|           AA|      494|   FLL| CLT|      1305| 1314.0|   11.0|   1325.0|  1455.0|   7.0|      1508| 1502.0|      0.0|            null|   632.0|        null|        null|    null|         null|             null|\n",
      "| 19|        3|           AA|      494|   FLL| CLT|      1305| 1304.0|   19.0|   1323.0|  1508.0|   5.0|      1508| 1513.0|      0.0|            null|   632.0|        null|        null|    null|         null|             null|\n",
      "+---+---------+-------------+---------+------+----+----------+-------+-------+---------+--------+------+----------+-------+---------+----------------+--------+------------+------------+--------+-------------+-----------------+\n",
      "only showing top 20 rows\n",
      "\n"
     ]
    },
    {
     "name": "stderr",
     "output_type": "stream",
     "text": [
      "21/11/07 01:50:31 WARN CSVHeaderChecker: CSV header does not conform to the schema.\n",
      " Header: , DayOfWeek, UniqueCarrier, FlightNum, Origin, Dest, CRSDepTime, DepTime, TaxiOut, WheelsOff, WheelsOn, TaxiIn, CRSArrTime, ArrTime, Cancelled, CancellationCode, Distance, CarrierDelay, WeatherDelay, NASDelay, SecurityDelay, LateAircraftDelay\n",
      " Schema: _c0, DayOfWeek, UniqueCarrier, FlightNum, Origin, Dest, CRSDepTime, DepTime, TaxiOut, WheelsOff, WheelsOn, TaxiIn, CRSArrTime, ArrTime, Cancelled, CancellationCode, Distance, CarrierDelay, WeatherDelay, NASDelay, SecurityDelay, LateAircraftDelay\n",
      "Expected: _c0 but found: \n",
      "CSV file: file:///home/jovyan/work/assignment-2-nicholasmp/data/flight_info.csv\n"
     ]
    }
   ],
   "source": [
    "### Write your code here\n",
    "from pyspark.sql import SparkSession\n",
    "\n",
    "# sparkSession created using Spark Apache documentation. \n",
    "spark = SparkSession.builder.getOrCreate()\n",
    "\n",
    "# Load the csv using text file\n",
    "fight_info = spark.read.csv(\"data/flight_info.csv\", header=True)\n",
    "# Use .count() to count the number of entries in the file.\n",
    "fight_info.show()"
   ]
  },
  {
   "cell_type": "markdown",
   "id": "4fad81f1",
   "metadata": {},
   "source": [
    "### Q20\n",
    "\n",
    "Use `pySpark-SQL` or `pandas-like syntax to compute the airlines represented in this dataset\n",
    "The airline information is stored in a field called UniqueCarrier\n",
    "* UniqueCarrier: Represents the unique carrier code (ex.AA = American Airlines) \n"
   ]
  },
  {
   "cell_type": "code",
   "execution_count": 19,
   "id": "73fd7b0b",
   "metadata": {},
   "outputs": [
    {
     "name": "stdout",
     "output_type": "stream",
     "text": [
      "+-------------+\n",
      "|UniqueCarrier|\n",
      "+-------------+\n",
      "|           AA|\n",
      "|           AA|\n",
      "|           AA|\n",
      "|           AA|\n",
      "|           AA|\n",
      "|           AA|\n",
      "|           AA|\n",
      "|           AA|\n",
      "|           AA|\n",
      "|           AA|\n",
      "+-------------+\n",
      "only showing top 10 rows\n",
      "\n"
     ]
    }
   ],
   "source": [
    "### Write your code here\n",
    "unique_carrier = fight_info.select(\"UniqueCarrier\").show(10)"
   ]
  },
  {
   "cell_type": "markdown",
   "id": "1349b2f5",
   "metadata": {},
   "source": [
    "### Q21\n",
    "\n",
    "The data file contains various other fields, two of which are useful for answering the next question.\n",
    "\n",
    "* CRSDepTime: Represents the scheduled departure time\n",
    "* DepTime: Represents the actual departure time\n",
    "\n",
    "Compute the number of flights delayed per each carried code represented in this dataset. Sort the data by decreasing order of delays.\n",
    "  * A delay is observed when `DepTime` > `CRSDepTime`\n"
   ]
  },
  {
   "cell_type": "code",
   "execution_count": 22,
   "id": "c72cff25",
   "metadata": {},
   "outputs": [
    {
     "name": "stderr",
     "output_type": "stream",
     "text": [
      "[Stage 83:>                                                         (0 + 2) / 2]\r"
     ]
    },
    {
     "name": "stdout",
     "output_type": "stream",
     "text": [
      "Total delays: 187792\n",
      "Carrier Code: WN, Delayed Flight Count: 54557\n",
      "Carrier Code: DL, Delayed Flight Count: 28962\n",
      "Carrier Code: AA, Delayed Flight Count: 26291\n",
      "Carrier Code: UA, Delayed Flight Count: 19594\n",
      "Carrier Code: OO, Delayed Flight Count: 17924\n",
      "Carrier Code: EV, Delayed Flight Count: 12340\n",
      "Carrier Code: B6, Delayed Flight Count: 10406\n",
      "Carrier Code: AS, Delayed Flight Count: 4966\n",
      "Carrier Code: NK, Delayed Flight Count: 4435\n",
      "Carrier Code: F9, Delayed Flight Count: 3181\n",
      "Carrier Code: VX, Delayed Flight Count: 2871\n",
      "Carrier Code: HA, Delayed Flight Count: 2265\n"
     ]
    },
    {
     "name": "stderr",
     "output_type": "stream",
     "text": [
      "\r",
      "                                                                                \r"
     ]
    }
   ],
   "source": [
    "### Write your code here\n",
    "# select the three fields in question and compare them using .where() the obsereved delay occurs.\n",
    "delayed_flights = fight_info.select(\"UniqueCarrier\", \"DepTime\", \"CRSDepTime\").where(\"DepTime > CRSDepTime\")\n",
    "# group the observed delays by the Carrier Code and use the built in count aggregate function.\n",
    "# sort in descending order by the count of delays and collect the data.\n",
    "grouped_delays = delayed_flights.groupBy(\"UniqueCarrier\").agg({\"*\": \"count\"}).sort(\"count(1)\", ascending=False).collect()\n",
    "# print this output nicely.\n",
    "print(f\"Total delays: {delayed_flights.count()}\")\n",
    "for row in grouped_delays:\n",
    "    print(\"Carrier Code: \" + row['UniqueCarrier'] + \", Delayed Flight Count: \" + str(row['count(1)']))"
   ]
  },
  {
   "cell_type": "markdown",
   "id": "1645593b",
   "metadata": {},
   "source": [
    "### Q22\n",
    "\n",
    " Use the file `airlines.csv` to find the the complete name of the airline. Here, you are required to load the file as a pyspark DataFrame; call it `airlines_info`, and repeat the query above while including the `flights.csv `file in your query ( requires doing a `join`) so that you can also display the full name of the carrier (second column). \n",
    "\n",
    "The result will look (approximately) like:\n",
    "\n",
    "```\n",
    "[Row(UniqueCarrier='WN', first(_c1)='Southwest Airlines', count=SOME_count),\n",
    " Row(UniqueCarrier='DL', first(_c1)='Delta Air Lines', count=SOME_count),\n",
    " Row(UniqueCarrier='AA', first(_c1)='American Airlines', count=SOME_count),\n",
    " ...\n",
    " ]\n",
    "```\n",
    "\n",
    "The carrier code in the `airlines.csv` file is provided in the 4th (1-based) column\n",
    "\n",
    "Note that the file `airlines.csv` does not have column header. Hence, you need to print one line of your dataset to see what names Spark gave to the columns. Use the name provided by Spark in your query."
   ]
  },
  {
   "cell_type": "code",
   "execution_count": 39,
   "id": "30cea22b",
   "metadata": {},
   "outputs": [
    {
     "name": "stderr",
     "output_type": "stream",
     "text": [
      "\r",
      "[Stage 147:>                                                        (0 + 2) / 2]\r",
      "\r",
      "[Stage 147:============================>                            (1 + 1) / 2]\r"
     ]
    },
    {
     "name": "stdout",
     "output_type": "stream",
     "text": [
      "Carrier Code: WN_c1='Southwest Airlines', Delayed Flight Count: 54557\n",
      "Carrier Code: DL_c1='Delta Air Lines', Delayed Flight Count: 28962\n",
      "Carrier Code: AA_c1='American Airlines', Delayed Flight Count: 26291\n",
      "Carrier Code: UA_c1='United Airlines', Delayed Flight Count: 19594\n",
      "Carrier Code: OO_c1='SkyWest', Delayed Flight Count: 17924\n",
      "Carrier Code: EV_c1='Atlantic Southeast Airlines', Delayed Flight Count: 12340\n",
      "Carrier Code: B6_c1='JetBlue Airways', Delayed Flight Count: 10406\n",
      "Carrier Code: AS_c1='Alaska Airlines', Delayed Flight Count: 4966\n",
      "Carrier Code: NK_c1='Spirit Airlines', Delayed Flight Count: 4435\n",
      "Carrier Code: F9_c1='Frontier Airlines', Delayed Flight Count: 3181\n",
      "Carrier Code: VX_c1='Virgin America', Delayed Flight Count: 2871\n",
      "Carrier Code: HA_c1='Hawaiian Airlines', Delayed Flight Count: 2265\n"
     ]
    },
    {
     "name": "stderr",
     "output_type": "stream",
     "text": [
      "\r",
      "                                                                                \r"
     ]
    }
   ],
   "source": [
    "### Write your code here\n",
    "airlines_info = spark.read.csv(\"data/airlines.csv\", header=False)\n",
    "delayed_flights_two = fight_info.join(airlines_info, fight_info.UniqueCarrier == airlines_info._c3).select(\"UniqueCarrier\", \"_c1\", \"DepTime\", \"CRSDepTime\").where(\"DepTime > CRSDepTime\")\n",
    "full_grouped_delays = delayed_flights_two.groupBy([\"UniqueCarrier\", \"_c1\"]).agg({\"*\": \"count\"}).sort(\"count(1)\", ascending=False).collect()\n",
    "# full_grouped_delays\n",
    "for row in full_grouped_delays:\n",
    "    print(\"Carrier Code: \" + row['UniqueCarrier'] + \"_c1='\" + row['_c1'] + \"', Delayed Flight Count: \" + str(row['count(1)']))\n",
    "    "
   ]
  },
  {
   "cell_type": "markdown",
   "id": "4e0123a8",
   "metadata": {},
   "source": [
    "### Q23\n",
    "\n",
    "Compute the number of delays per company per day. The day is encoded as an integer in the column `DayOfWeek` in `fight_info`. You can display the day as an integer or map it into a string name of the week.\n",
    "Sort the data by airline code (UniqueCarrier) and by increasing values of DayOfWeek\n",
    "\n",
    "\n",
    "You results should look like the following\n",
    "\n"
   ]
  },
  {
   "cell_type": "code",
   "execution_count": null,
   "id": "f9971baa",
   "metadata": {},
   "outputs": [],
   "source": [
    "### Write your code here"
   ]
  },
  {
   "cell_type": "markdown",
   "id": "4c955760",
   "metadata": {},
   "source": [
    "### Q24  \n",
    "\n",
    "Counting the number of delayed flights per airline is misleading, as airlines with more flights are more likley to have delays than companies with substantially fiewer flights. \n",
    "\n",
    "Repeat the same query above but, for each carrier, normalize the counts of delays by the total number of flights for that carrier. \n"
   ]
  },
  {
   "cell_type": "code",
   "execution_count": null,
   "id": "13ae9b5e",
   "metadata": {},
   "outputs": [],
   "source": [
    "### Write your code here"
   ]
  },
  {
   "cell_type": "markdown",
   "id": "5b73b3e4",
   "metadata": {},
   "source": [
    "### Q25 \n",
    "\n",
    "Time the query above. How long did it take to run. \n",
    "  * Make sure you run the code a few times and compute the average run time.\n",
    "  * The above should be easy to implement if you use the correct Jupyter Notebook `magic` function\n",
    "  "
   ]
  },
  {
   "cell_type": "code",
   "execution_count": null,
   "id": "7df43da8",
   "metadata": {},
   "outputs": [],
   "source": [
    "### Write your code here"
   ]
  },
  {
   "cell_type": "markdown",
   "id": "604e85e0",
   "metadata": {},
   "source": [
    "### Q26 \n",
    "\n",
    "Use one of the techniques covered in class to accelerate this query. Time your query to see by how much the run time was improved"
   ]
  },
  {
   "cell_type": "code",
   "execution_count": null,
   "id": "2e951d64",
   "metadata": {},
   "outputs": [],
   "source": [
    "### Write your code here"
   ]
  },
  {
   "cell_type": "markdown",
   "id": "8a87a433",
   "metadata": {},
   "source": [
    "### Q27 \n",
    "\n",
    "Is the departure delay (i.e., DepTime - CRSDepTime) predictive of the arrival delay (ArrTime > CRSArrTime)?\n",
    "Use an approach of your choice (e.g. `skelearn` which we covered in class or `Spark`) to model as a linear regression the arrival delay as a function of the departure delay. \n",
    "\n"
   ]
  },
  {
   "cell_type": "code",
   "execution_count": null,
   "id": "f8dbd52d",
   "metadata": {},
   "outputs": [],
   "source": [
    "### Write your code here"
   ]
  }
 ],
 "metadata": {
  "kernelspec": {
   "display_name": "Python 3 (ipykernel)",
   "language": "python",
   "name": "python3"
  },
  "language_info": {
   "codemirror_mode": {
    "name": "ipython",
    "version": 3
   },
   "file_extension": ".py",
   "mimetype": "text/x-python",
   "name": "python",
   "nbconvert_exporter": "python",
   "pygments_lexer": "ipython3",
   "version": "3.9.7"
  }
 },
 "nbformat": 4,
 "nbformat_minor": 5
}
